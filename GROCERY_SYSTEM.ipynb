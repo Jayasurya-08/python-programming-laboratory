{
  "nbformat": 4,
  "nbformat_minor": 0,
  "metadata": {
    "colab": {
      "provenance": [],
      "authorship_tag": "ABX9TyMbN8+ufTepN1Zg3C7a4etI",
      "include_colab_link": true
    },
    "kernelspec": {
      "name": "python3",
      "display_name": "Python 3"
    },
    "language_info": {
      "name": "python"
    }
  },
  "cells": [
    {
      "cell_type": "markdown",
      "metadata": {
        "id": "view-in-github",
        "colab_type": "text"
      },
      "source": [
        "<a href=\"https://colab.research.google.com/github/Jayasurya-08/python-programming-laboratory/blob/main/GROCERY_SYSTEM.ipynb\" target=\"_parent\"><img src=\"https://colab.research.google.com/assets/colab-badge.svg\" alt=\"Open In Colab\"/></a>"
      ]
    },
    {
      "cell_type": "code",
      "execution_count": null,
      "metadata": {
        "id": "Z2PaDxXZyY7L"
      },
      "outputs": [],
      "source": []
    },
    {
      "cell_type": "markdown",
      "source": [
        "# GROCERY CHECKOUT SYSTEM"
      ],
      "metadata": {
        "id": "NtxZaIbGyZ1l"
      }
    },
    {
      "cell_type": "code",
      "source": [
        "while True :\n",
        "    print(\"\\n=== Grocery dtore menu ===\")\n",
        "    print(\"1. show products\")\n",
        "    print(\"2. add to cart\")\n",
        "    print(\"3. remove from cart\")\n",
        "    print(\"4. view cart\")\n",
        "    print(\"5. checkout and exit\")\n",
        "\n",
        "    choice = input(\"enter choice :\")\n",
        "\n",
        "    if choice == \"1\":\n",
        "      show_products()\n",
        "    elif choice == \"2\":\n",
        "      add_to_cart()\n",
        "    elif choice == \"3\":\n",
        "      remove_from_cart()\n",
        "    elif choice == \"4\":\n",
        "      view_cart()\n",
        "    elif choice == \"5\":\n",
        "      checkout()\n",
        "      print(\"thank you for shopping !\")\n",
        "      break\n",
        "    else:\n",
        "      print(\"invalid choice. please try again.\")"
      ],
      "metadata": {
        "id": "bWYX2gRpylmE"
      },
      "execution_count": null,
      "outputs": []
    },
    {
      "cell_type": "code",
      "source": [
        "# STEP 1 : Available products and prices\n",
        "# define a new list products for listing the grocery item\n",
        "products = [\"vegetable\" , \"fruits\" , \"butter\" , \"jam\"]\n",
        "cost= [100.50 , 35.75 , 156.75 , 80.75]\n",
        "\n",
        "# define cart : EMPTY\n",
        "cart = []\n",
        "\n",
        "#display the menu\n",
        "def show_products():\n",
        "  print(\"\\n The avaialble products\")\n",
        "  for i, item in enumerate (products):\n",
        "    print(F\"{i+1} . {item} - {cost[i]}\")\n",
        "show_products()"
      ],
      "metadata": {
        "colab": {
          "base_uri": "https://localhost:8080/"
        },
        "id": "iKWClixaysKN",
        "outputId": "85b84476-ad3a-4bd5-89d0-1b7df1a5188e"
      },
      "execution_count": 3,
      "outputs": [
        {
          "output_type": "stream",
          "name": "stdout",
          "text": [
            "\n",
            " The avaialble products\n",
            "1 . vegetable - 100.5\n",
            "2 . fruits - 35.75\n",
            "3 . butter - 156.75\n",
            "4 . jam - 80.75\n"
          ]
        }
      ]
    },
    {
      "cell_type": "code",
      "source": [
        "# Add item to cart\n",
        "def add_to_cart():\n",
        "  show_products()\n",
        "  choice=int(input(\"enter the product number to add:\"))\n",
        "  if 0<=choice<len(products):\n",
        "    cart.append(choice)\n",
        "    print(f\"{products[choice-1]} added to cart:\")\n",
        "  else:\n",
        "    print(\"invalid product number\")\n",
        "add_to_cart()"
      ],
      "metadata": {
        "colab": {
          "base_uri": "https://localhost:8080/"
        },
        "id": "eo_9Mt6w1D5l",
        "outputId": "adfe1b02-126f-4367-85ad-e6ce3411875b"
      },
      "execution_count": 11,
      "outputs": [
        {
          "output_type": "stream",
          "name": "stdout",
          "text": [
            "\n",
            " The avaialble products\n",
            "1 . vegetable - 100.5\n",
            "2 . fruits - 35.75\n",
            "3 . butter - 156.75\n",
            "4 . jam - 80.75\n",
            "enter the product number to add:1\n",
            "vegetable added to cart:\n"
          ]
        }
      ]
    },
    {
      "cell_type": "code",
      "source": [
        "def remove_from_cart():\n",
        "    if not cart:\n",
        "      print(\"your cart is empty\")\n",
        "      return\n",
        "    show_cart()\n",
        "    choice=int(input(\"enter the product number to remove:\")) - 1\n",
        "    if 0<=choice<len(cart):\n",
        "      removed_item=products[cart[choice]]\n",
        "      cart.pop(choice)\n",
        "      print(f\"{products[removed_item]} removed from cart\")\n",
        "    else:\n",
        "      print(\"invalid product number\")\n",
        "remove_from_cart()"
      ],
      "metadata": {
        "id": "G0dvl7I64RQ0"
      },
      "execution_count": null,
      "outputs": []
    }
  ]
}