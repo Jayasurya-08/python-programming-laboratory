{
  "nbformat": 4,
  "nbformat_minor": 0,
  "metadata": {
    "colab": {
      "provenance": [],
      "authorship_tag": "ABX9TyMOAv6uyGOz1kliax+UcNfR",
      "include_colab_link": true
    },
    "kernelspec": {
      "name": "python3",
      "display_name": "Python 3"
    },
    "language_info": {
      "name": "python"
    }
  },
  "cells": [
    {
      "cell_type": "markdown",
      "metadata": {
        "id": "view-in-github",
        "colab_type": "text"
      },
      "source": [
        "<a href=\"https://colab.research.google.com/github/Jayasurya-08/python-programming-laboratory/blob/main/GROCERY_SYSTEM.ipynb\" target=\"_parent\"><img src=\"https://colab.research.google.com/assets/colab-badge.svg\" alt=\"Open In Colab\"/></a>"
      ]
    },
    {
      "cell_type": "code",
      "execution_count": null,
      "metadata": {
        "id": "Z2PaDxXZyY7L"
      },
      "outputs": [],
      "source": []
    },
    {
      "cell_type": "markdown",
      "source": [
        "# GROCERY CHECKOUT SYSTEM"
      ],
      "metadata": {
        "id": "NtxZaIbGyZ1l"
      }
    },
    {
      "cell_type": "code",
      "source": [
        "while True :\n",
        "    print(\"\\n=== Grocery dtore menu ===\")\n",
        "    print(\"1. show products\")\n",
        "    print(\"2. add to cart\")\n",
        "    print(\"3. remove from cart\")\n",
        "    print(\"4. view cart\")\n",
        "    print(\"5. checkout and exit\")\n",
        "\n",
        "    choice = input(\"enter choice :\")\n",
        "\n",
        "    if choice == \"1\":\n",
        "      show_products()\n",
        "    elif choice == \"2\":\n",
        "      add_to_cart()\n",
        "    elif choice == \"3\":\n",
        "      remove_from_cart()\n",
        "    elif choice == \"4\":\n",
        "      view_cart()\n",
        "    elif choice == \"5\":\n",
        "      checkout()\n",
        "      print(\"thank you for shopping !\")\n",
        "      break\n",
        "    else:\n",
        "      print(\"invalid choice. please try again.\")"
      ],
      "metadata": {
        "id": "bWYX2gRpylmE"
      },
      "execution_count": null,
      "outputs": []
    }
  ]
}